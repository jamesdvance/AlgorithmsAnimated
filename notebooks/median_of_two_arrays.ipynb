{
 "cells": [
  {
   "cell_type": "code",
   "execution_count": 4,
   "metadata": {},
   "outputs": [
    {
     "name": "stdout",
     "output_type": "stream",
     "text": [
      "Usage: manim [OPTIONS] COMMAND [ARGS]...\n",
      "\n",
      "  Animation engine for explanatory math videos.\n",
      "\n",
      "Options:\n",
      "  --version  Show version and exit.\n",
      "  --help     Show this message and exit.\n",
      "\n",
      "Commands:\n",
      "  cfg      Manages Manim configuration files.\n",
      "  init     Create a new project or insert a new scene.\n",
      "  new      (Deprecated) Create a new project or insert a new scene.\n",
      "  plugins  Manages Manim plugins.\n",
      "  render   Render SCENE(S) from the input FILE.\n",
      "\n",
      "See 'manim <command>' to read about a specific subcommand.\n",
      "\n",
      "Note: the subcommand 'manim render' is called if no other subcommand is\n",
      "specified. Run 'manim render --help' if you would like to know what the '-ql' or\n",
      "'-p' flags do, for example.\n",
      "\n",
      "Made with <3 by Manim Community developers.\n"
     ]
    }
   ],
   "source": [
    "%%manim\n",
    "from manim import *"
   ]
  },
  {
   "cell_type": "code",
   "execution_count": 31,
   "metadata": {},
   "outputs": [],
   "source": [
    "arr1 = [1,2,3]\n",
    "arr2 = [4,5]\n",
    "class FullMovie(Scene):\n",
    "    def get_longer_arrays(self, arr1, arr2):    \n",
    "        pass\n",
    "\n",
    "\n",
    "\n",
    "    # Run Moview Method\n",
    "    def construct(self):\n",
    "\n",
    "        # arr1_manim = [lambda x: Square(fill_color=\"LIGHT_GREY\", \n",
    "        #     stroke_color=\"LIGHT_BLUE\", fill_opacity=0.9, width=25) ]\n",
    "        # for square in arr1_manim:\n",
    "        #     self.play(Create(square))\n",
    "        square = Square(color=BLUE_C, \n",
    "            fill_opacity=0.5)\n",
    "        square.width = 0.5\n",
    "        self.play(Create(square))\n",
    "        self.play(square.animate.shift(RIGHT))"
   ]
  },
  {
   "cell_type": "code",
   "execution_count": 32,
   "metadata": {},
   "outputs": [
    {
     "data": {
      "text/html": [
       "<pre style=\"white-space:pre;overflow-x:auto;line-height:normal;font-family:Menlo,'DejaVu Sans Mono',consolas,'Courier New',monospace\"><span style=\"color: #7fbfbf; text-decoration-color: #7fbfbf\">[12/11/22 11:03:29] </span><span style=\"color: #008000; text-decoration-color: #008000\">INFO    </span> Animation <span style=\"color: #008000; text-decoration-color: #008000\">0</span> : Using cached data <span style=\"font-weight: bold\">(</span>hash :                           <a href=\"file://c:\\Users\\J\\anaconda3\\envs\\movie_maker_env\\lib\\site-packages\\manim\\renderer\\cairo_renderer.py\" target=\"_blank\"><span style=\"color: #7f7f7f; text-decoration-color: #7f7f7f\">cairo_renderer.py</span></a><span style=\"color: #7f7f7f; text-decoration-color: #7f7f7f\">:</span><a href=\"file://c:\\Users\\J\\anaconda3\\envs\\movie_maker_env\\lib\\site-packages\\manim\\renderer\\cairo_renderer.py#78\" target=\"_blank\"><span style=\"color: #7f7f7f; text-decoration-color: #7f7f7f\">78</span></a>\n",
       "<span style=\"color: #7fbfbf; text-decoration-color: #7fbfbf\">                    </span>         1413466013_26862450_223132457<span style=\"font-weight: bold\">)</span>                                    <span style=\"color: #7f7f7f; text-decoration-color: #7f7f7f\">                    </span>\n",
       "</pre>\n"
      ],
      "text/plain": [
       "\u001b[2;36m[12/11/22 11:03:29]\u001b[0m\u001b[2;36m \u001b[0m\u001b[32mINFO    \u001b[0m Animation \u001b[32m0\u001b[0m : Using cached data \u001b[1m(\u001b[0mhash :                           \u001b]8;id=392832;file://c:\\Users\\J\\anaconda3\\envs\\movie_maker_env\\lib\\site-packages\\manim\\renderer\\cairo_renderer.py\u001b\\\u001b[2mcairo_renderer.py\u001b[0m\u001b]8;;\u001b\\\u001b[2m:\u001b[0m\u001b]8;id=863802;file://c:\\Users\\J\\anaconda3\\envs\\movie_maker_env\\lib\\site-packages\\manim\\renderer\\cairo_renderer.py#78\u001b\\\u001b[2m78\u001b[0m\u001b]8;;\u001b\\\n",
       "\u001b[2;36m                    \u001b[0m         1413466013_26862450_223132457\u001b[1m)\u001b[0m                                    \u001b[2m                    \u001b[0m\n"
      ]
     },
     "metadata": {},
     "output_type": "display_data"
    },
    {
     "name": "stderr",
     "output_type": "stream",
     "text": [
      "                                                                                      \r"
     ]
    },
    {
     "data": {
      "text/html": [
       "<pre style=\"white-space:pre;overflow-x:auto;line-height:normal;font-family:Menlo,'DejaVu Sans Mono',consolas,'Courier New',monospace\"><span style=\"color: #7fbfbf; text-decoration-color: #7fbfbf\">[12/11/22 11:03:35] </span><span style=\"color: #008000; text-decoration-color: #008000\">INFO    </span> Animation <span style=\"color: #008000; text-decoration-color: #008000\">1</span> : Partial movie file written in                   <a href=\"file://c:\\Users\\J\\anaconda3\\envs\\movie_maker_env\\lib\\site-packages\\manim\\scene\\scene_file_writer.py\" target=\"_blank\"><span style=\"color: #7f7f7f; text-decoration-color: #7f7f7f\">scene_file_writer.py</span></a><span style=\"color: #7f7f7f; text-decoration-color: #7f7f7f\">:</span><a href=\"file://c:\\Users\\J\\anaconda3\\envs\\movie_maker_env\\lib\\site-packages\\manim\\scene\\scene_file_writer.py#527\" target=\"_blank\"><span style=\"color: #7f7f7f; text-decoration-color: #7f7f7f\">527</span></a>\n",
       "<span style=\"color: #7fbfbf; text-decoration-color: #7fbfbf\">                    </span>         <span style=\"color: #008000; text-decoration-color: #008000\">'C:\\Users\\J\\Desktop\\git_repos\\AlgorithmsAnimated\\notebooks\\me</span> <span style=\"color: #7f7f7f; text-decoration-color: #7f7f7f\">                        </span>\n",
       "<span style=\"color: #7fbfbf; text-decoration-color: #7fbfbf\">                    </span>         <span style=\"color: #008000; text-decoration-color: #008000\">dia\\videos\\notebooks\\1080p60\\partial_movie_files\\FullMovie\\16</span> <span style=\"color: #7f7f7f; text-decoration-color: #7f7f7f\">                        </span>\n",
       "<span style=\"color: #7fbfbf; text-decoration-color: #7fbfbf\">                    </span>         <span style=\"color: #008000; text-decoration-color: #008000\">72018281_876563541_3460848958.mp4'</span>                            <span style=\"color: #7f7f7f; text-decoration-color: #7f7f7f\">                        </span>\n",
       "</pre>\n"
      ],
      "text/plain": [
       "\u001b[2;36m[12/11/22 11:03:35]\u001b[0m\u001b[2;36m \u001b[0m\u001b[32mINFO    \u001b[0m Animation \u001b[32m1\u001b[0m : Partial movie file written in                   \u001b]8;id=479356;file://c:\\Users\\J\\anaconda3\\envs\\movie_maker_env\\lib\\site-packages\\manim\\scene\\scene_file_writer.py\u001b\\\u001b[2mscene_file_writer.py\u001b[0m\u001b]8;;\u001b\\\u001b[2m:\u001b[0m\u001b]8;id=295144;file://c:\\Users\\J\\anaconda3\\envs\\movie_maker_env\\lib\\site-packages\\manim\\scene\\scene_file_writer.py#527\u001b\\\u001b[2m527\u001b[0m\u001b]8;;\u001b\\\n",
       "\u001b[2;36m                    \u001b[0m         \u001b[32m'C:\\Users\\J\\Desktop\\git_repos\\AlgorithmsAnimated\\notebooks\\me\u001b[0m \u001b[2m                        \u001b[0m\n",
       "\u001b[2;36m                    \u001b[0m         \u001b[32mdia\\videos\\notebooks\\1080p60\\partial_movie_files\\FullMovie\\16\u001b[0m \u001b[2m                        \u001b[0m\n",
       "\u001b[2;36m                    \u001b[0m         \u001b[32m72018281_876563541_3460848958.mp4'\u001b[0m                            \u001b[2m                        \u001b[0m\n"
      ]
     },
     "metadata": {},
     "output_type": "display_data"
    },
    {
     "data": {
      "text/html": [
       "<pre style=\"white-space:pre;overflow-x:auto;line-height:normal;font-family:Menlo,'DejaVu Sans Mono',consolas,'Courier New',monospace\"><span style=\"color: #7fbfbf; text-decoration-color: #7fbfbf\">                    </span><span style=\"color: #008000; text-decoration-color: #008000\">INFO    </span> Combining to Movie file.                                      <a href=\"file://c:\\Users\\J\\anaconda3\\envs\\movie_maker_env\\lib\\site-packages\\manim\\scene\\scene_file_writer.py\" target=\"_blank\"><span style=\"color: #7f7f7f; text-decoration-color: #7f7f7f\">scene_file_writer.py</span></a><span style=\"color: #7f7f7f; text-decoration-color: #7f7f7f\">:</span><a href=\"file://c:\\Users\\J\\anaconda3\\envs\\movie_maker_env\\lib\\site-packages\\manim\\scene\\scene_file_writer.py#617\" target=\"_blank\"><span style=\"color: #7f7f7f; text-decoration-color: #7f7f7f\">617</span></a>\n",
       "</pre>\n"
      ],
      "text/plain": [
       "\u001b[2;36m                   \u001b[0m\u001b[2;36m \u001b[0m\u001b[32mINFO    \u001b[0m Combining to Movie file.                                      \u001b]8;id=711653;file://c:\\Users\\J\\anaconda3\\envs\\movie_maker_env\\lib\\site-packages\\manim\\scene\\scene_file_writer.py\u001b\\\u001b[2mscene_file_writer.py\u001b[0m\u001b]8;;\u001b\\\u001b[2m:\u001b[0m\u001b]8;id=268797;file://c:\\Users\\J\\anaconda3\\envs\\movie_maker_env\\lib\\site-packages\\manim\\scene\\scene_file_writer.py#617\u001b\\\u001b[2m617\u001b[0m\u001b]8;;\u001b\\\n"
      ]
     },
     "metadata": {},
     "output_type": "display_data"
    },
    {
     "data": {
      "text/html": [
       "<pre style=\"white-space:pre;overflow-x:auto;line-height:normal;font-family:Menlo,'DejaVu Sans Mono',consolas,'Courier New',monospace\"><span style=\"color: #7fbfbf; text-decoration-color: #7fbfbf\">                    </span><span style=\"color: #008000; text-decoration-color: #008000\">INFO    </span>                                                               <a href=\"file://c:\\Users\\J\\anaconda3\\envs\\movie_maker_env\\lib\\site-packages\\manim\\scene\\scene_file_writer.py\" target=\"_blank\"><span style=\"color: #7f7f7f; text-decoration-color: #7f7f7f\">scene_file_writer.py</span></a><span style=\"color: #7f7f7f; text-decoration-color: #7f7f7f\">:</span><a href=\"file://c:\\Users\\J\\anaconda3\\envs\\movie_maker_env\\lib\\site-packages\\manim\\scene\\scene_file_writer.py#736\" target=\"_blank\"><span style=\"color: #7f7f7f; text-decoration-color: #7f7f7f\">736</span></a>\n",
       "<span style=\"color: #7fbfbf; text-decoration-color: #7fbfbf\">                    </span>         <span style=\"color: #808000; text-decoration-color: #808000; font-weight: bold\">File</span> ready at                                                 <span style=\"color: #7f7f7f; text-decoration-color: #7f7f7f\">                        </span>\n",
       "<span style=\"color: #7fbfbf; text-decoration-color: #7fbfbf\">                    </span>         <span style=\"color: #008000; text-decoration-color: #008000\">'C:\\Users\\J\\Desktop\\git_repos\\AlgorithmsAnimated\\notebooks\\me</span> <span style=\"color: #7f7f7f; text-decoration-color: #7f7f7f\">                        </span>\n",
       "<span style=\"color: #7fbfbf; text-decoration-color: #7fbfbf\">                    </span>         <span style=\"color: #008000; text-decoration-color: #008000\">dia\\videos\\notebooks\\1080p60\\FullMovie.mp4'</span>                   <span style=\"color: #7f7f7f; text-decoration-color: #7f7f7f\">                        </span>\n",
       "<span style=\"color: #7fbfbf; text-decoration-color: #7fbfbf\">                    </span>                                                                       <span style=\"color: #7f7f7f; text-decoration-color: #7f7f7f\">                        </span>\n",
       "</pre>\n"
      ],
      "text/plain": [
       "\u001b[2;36m                   \u001b[0m\u001b[2;36m \u001b[0m\u001b[32mINFO    \u001b[0m                                                               \u001b]8;id=226195;file://c:\\Users\\J\\anaconda3\\envs\\movie_maker_env\\lib\\site-packages\\manim\\scene\\scene_file_writer.py\u001b\\\u001b[2mscene_file_writer.py\u001b[0m\u001b]8;;\u001b\\\u001b[2m:\u001b[0m\u001b]8;id=469999;file://c:\\Users\\J\\anaconda3\\envs\\movie_maker_env\\lib\\site-packages\\manim\\scene\\scene_file_writer.py#736\u001b\\\u001b[2m736\u001b[0m\u001b]8;;\u001b\\\n",
       "\u001b[2;36m                    \u001b[0m         \u001b[1;33mFile\u001b[0m ready at                                                 \u001b[2m                        \u001b[0m\n",
       "\u001b[2;36m                    \u001b[0m         \u001b[32m'C:\\Users\\J\\Desktop\\git_repos\\AlgorithmsAnimated\\notebooks\\me\u001b[0m \u001b[2m                        \u001b[0m\n",
       "\u001b[2;36m                    \u001b[0m         \u001b[32mdia\\videos\\notebooks\\1080p60\\FullMovie.mp4'\u001b[0m                   \u001b[2m                        \u001b[0m\n",
       "\u001b[2;36m                    \u001b[0m                                                                       \u001b[2m                        \u001b[0m\n"
      ]
     },
     "metadata": {},
     "output_type": "display_data"
    },
    {
     "data": {
      "text/html": [
       "<pre style=\"white-space:pre;overflow-x:auto;line-height:normal;font-family:Menlo,'DejaVu Sans Mono',consolas,'Courier New',monospace\"><span style=\"color: #7fbfbf; text-decoration-color: #7fbfbf\">                    </span><span style=\"color: #008000; text-decoration-color: #008000\">INFO    </span> <span style=\"color: #808000; text-decoration-color: #808000; font-weight: bold\">Rendered</span> FullMovie                                                        <a href=\"file://c:\\Users\\J\\anaconda3\\envs\\movie_maker_env\\lib\\site-packages\\manim\\scene\\scene.py\" target=\"_blank\"><span style=\"color: #7f7f7f; text-decoration-color: #7f7f7f\">scene.py</span></a><span style=\"color: #7f7f7f; text-decoration-color: #7f7f7f\">:</span><a href=\"file://c:\\Users\\J\\anaconda3\\envs\\movie_maker_env\\lib\\site-packages\\manim\\scene\\scene.py#241\" target=\"_blank\"><span style=\"color: #7f7f7f; text-decoration-color: #7f7f7f\">241</span></a>\n",
       "<span style=\"color: #7fbfbf; text-decoration-color: #7fbfbf\">                    </span>         <span style=\"color: #808000; text-decoration-color: #808000; font-weight: bold\">Played</span> <span style=\"color: #008000; text-decoration-color: #008000\">2</span> <span style=\"color: #808000; text-decoration-color: #808000; font-weight: bold\">animations</span>                                                       <span style=\"color: #7f7f7f; text-decoration-color: #7f7f7f\">            </span>\n",
       "</pre>\n"
      ],
      "text/plain": [
       "\u001b[2;36m                   \u001b[0m\u001b[2;36m \u001b[0m\u001b[32mINFO    \u001b[0m \u001b[1;33mRendered\u001b[0m FullMovie                                                        \u001b]8;id=447152;file://c:\\Users\\J\\anaconda3\\envs\\movie_maker_env\\lib\\site-packages\\manim\\scene\\scene.py\u001b\\\u001b[2mscene.py\u001b[0m\u001b]8;;\u001b\\\u001b[2m:\u001b[0m\u001b]8;id=330601;file://c:\\Users\\J\\anaconda3\\envs\\movie_maker_env\\lib\\site-packages\\manim\\scene\\scene.py#241\u001b\\\u001b[2m241\u001b[0m\u001b]8;;\u001b\\\n",
       "\u001b[2;36m                    \u001b[0m         \u001b[1;33mPlayed\u001b[0m \u001b[32m2\u001b[0m \u001b[1;33manimations\u001b[0m                                                       \u001b[2m            \u001b[0m\n"
      ]
     },
     "metadata": {},
     "output_type": "display_data"
    },
    {
     "data": {
      "text/html": [
       "<video src=\"media\\jupyter\\FullMovie@2022-12-11@11-03-35.mp4\" controls autoplay loop style=\"max-width: 60%;\"  >\n",
       "      Your browser does not support the <code>video</code> element.\n",
       "    </video>"
      ],
      "text/plain": [
       "<IPython.core.display.Video object>"
      ]
     },
     "metadata": {},
     "output_type": "display_data"
    }
   ],
   "source": [
    "%%manim FullMovie\n",
    "\n",
    "FullMovie()"
   ]
  },
  {
   "cell_type": "code",
   "execution_count": null,
   "metadata": {},
   "outputs": [],
   "source": [
    "class Solution:\n",
    "    def findMedianSortedArrays(self, nums1: List[int], nums2: List[int]) -> float:\n",
    "        "
   ]
  }
 ],
 "metadata": {
  "kernelspec": {
   "display_name": "Python 3.9.1 ('movie_maker_env')",
   "language": "python",
   "name": "python3"
  },
  "language_info": {
   "codemirror_mode": {
    "name": "ipython",
    "version": 3
   },
   "file_extension": ".py",
   "mimetype": "text/x-python",
   "name": "python",
   "nbconvert_exporter": "python",
   "pygments_lexer": "ipython3",
   "version": "3.9.1"
  },
  "orig_nbformat": 4,
  "vscode": {
   "interpreter": {
    "hash": "da7ac5b369f23dd3eeb5ce8185d5530674bfdb9dc9eee222783ae95224ce93f8"
   }
  }
 },
 "nbformat": 4,
 "nbformat_minor": 2
}
